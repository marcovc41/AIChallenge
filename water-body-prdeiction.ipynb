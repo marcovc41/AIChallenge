{
 "cells": [
  {
   "cell_type": "code",
   "execution_count": 97,
   "id": "99339c2e-f5ff-4761-b3a5-8dc3735ddabd",
   "metadata": {},
   "outputs": [],
   "source": [
    "## Select desired libraries\n",
    "\n",
    "import ee\n",
    "import numpy\n",
    "from matplotlib import pyplot as plot\n",
    "import tensorflow as tf\n",
    "from tensorflow.keras.datasets import mnist\n",
    "import statistics"
   ]
  },
  {
   "cell_type": "code",
   "execution_count": null,
   "id": "ab0090dd-970b-4112-b6e2-edd0dd100735",
   "metadata": {},
   "outputs": [],
   "source": [
    "# Trigger the authentication flow.\n",
    "ee.Authenticate()"
   ]
  },
  {
   "cell_type": "code",
   "execution_count": 3,
   "id": "f8c15af7-4fa7-4990-a4a8-4b202f656e61",
   "metadata": {},
   "outputs": [],
   "source": [
    "## Adjust libraries to current pthon version\n",
    "\n",
    "import collections\n",
    "collections.Callable = collections.abc.Callable"
   ]
  },
  {
   "cell_type": "code",
   "execution_count": 4,
   "id": "cb340be8-b492-40cb-847b-295d398a1078",
   "metadata": {},
   "outputs": [],
   "source": [
    "## Initialize the library.\n",
    "ee.Initialize()"
   ]
  },
  {
   "cell_type": "code",
   "execution_count": 18,
   "id": "d4f08756-edf4-43e0-b2b3-5b6fc9624781",
   "metadata": {},
   "outputs": [],
   "source": [
    "## Define image collection\n",
    "\n",
    "# Initial date of interest (inclusive).\n",
    "i_date = '2000-01-01'\n",
    "\n",
    "# Final date of interest (exclusive).\n",
    "f_date = '2015-01-01'\n",
    "\n",
    "# Define point of interest\n",
    "u_lat = 20.24\n",
    "u_lon = -103.06\n",
    "u_poi = ee.Geometry.Point(u_lon, u_lat)\n",
    "\n",
    "# Define area of interest\n",
    "dx = 0.8\n",
    "dy = 0.3\n",
    "rectangle = ee.Geometry.Rectangle([u_lon-dx/2, \n",
    "                                  u_lat-dy/2,\n",
    "                                  u_lon+dx/2,\n",
    "                                  u_lat+dy/2]) #(xMin, yMin, xMax, yMax)\n",
    "\n",
    "# Define point of interest\n",
    "point = ee.Geometry.Point(u_lon, u_lat)\n",
    "\n",
    "# Define scale\n",
    "scale = 100  # Scale in meters\n",
    "\n",
    "# Define working band\n",
    "band = 'water_mask'\n",
    "\n",
    "# Create image collection\n",
    "imageColletion = ee.ImageCollection('MODIS/006/MOD44W')\n",
    "waterMask = imageColletion.select(band).filterDate(i_date, f_date).filterBounds(rectangle).sort('time')\n"
   ]
  },
  {
   "cell_type": "code",
   "execution_count": 19,
   "id": "907c3d43-fdb1-4600-b32f-3823252ed6f4",
   "metadata": {},
   "outputs": [
    {
     "name": "stdout",
     "output_type": "stream",
     "text": [
      "https://earthengine.googleapis.com/v1alpha/projects/earthengine-legacy/videoThumbnails/b38170a7b4ed1ab270519653b260d5d4-fef5c4e3799f024f9417feb6008a10aa:getPixels\n"
     ]
    }
   ],
   "source": [
    "## Image collection visualization with a video\n",
    "\n",
    "# Define area of interest (aoi)\n",
    "aoi = rectangle\n",
    "\n",
    "# Define arguments for animation function parameters.\n",
    "videoArgs = {\n",
    "  'dimensions': 512,\n",
    "  'region': aoi,\n",
    "  'framesPerSecond': 7,\n",
    "  'crs': 'EPSG:3857',\n",
    "  'min': 0,\n",
    "  'max': 1,\n",
    "  'palette': ['bcba99', '2d0491']\n",
    "};\n",
    "\n",
    "# Alternatively, print a URL that will produce the animation when accessed.\n",
    "print(waterMask.getVideoThumbURL(videoArgs))"
   ]
  },
  {
   "cell_type": "code",
   "execution_count": 20,
   "id": "6797782a-b0ac-46b7-8c45-61e1d5d977bc",
   "metadata": {},
   "outputs": [
    {
     "name": "stdout",
     "output_type": "stream",
     "text": [
      "https://earthengine.googleapis.com/v1alpha/projects/earthengine-legacy/thumbnails/4577494e0d682292dd891275c09c10dc-5fa6c11ea9262a956762a00e58287d7b:getPixels\n",
      "\n",
      "Please wait while the thumbnail loads, it may take a moment...\n"
     ]
    },
    {
     "data": {
      "text/html": [
       "<img src=\"https://earthengine.googleapis.com/v1alpha/projects/earthengine-legacy/thumbnails/4577494e0d682292dd891275c09c10dc-5fa6c11ea9262a956762a00e58287d7b:getPixels\"/>"
      ],
      "text/plain": [
       "<IPython.core.display.Image object>"
      ]
     },
     "execution_count": 20,
     "metadata": {},
     "output_type": "execute_result"
    }
   ],
   "source": [
    "## Visual representation of a single image\n",
    "\n",
    "# Define a region of interest with a buffer zone of 1000 km around Lyon.\n",
    "roi = u_poi.buffer(5e4)\n",
    "# Reduce the LST collection by mean.\n",
    "dataset_img = waterMask.mean()\n",
    "# Adjust for scale factor.\n",
    "scale_factor = 1\n",
    "dataset_img = dataset_img.select('water_mask').multiply(scale_factor)\n",
    "\n",
    "from IPython.display import Image\n",
    "\n",
    "# Create a URL to the styled image for a region around interest point.\n",
    "url = dataset_img.getThumbUrl({\n",
    "    'min': 0.0,\n",
    "    'max': 1.0,\n",
    "    'dimensions': 512, \n",
    "    'region': roi,\n",
    "    'palette': ['bcba99', '2d0491']})\n",
    "print(url)\n",
    "\n",
    "# Display the thumbnail land surface temperature in interest point.\n",
    "print('\\nPlease wait while the thumbnail loads, it may take a moment...')\n",
    "Image(url=url)"
   ]
  },
  {
   "cell_type": "code",
   "execution_count": 31,
   "id": "190d4c2b-7fda-4c88-9c40-f2a1f6d6aa8a",
   "metadata": {},
   "outputs": [
    {
     "data": {
      "text/plain": [
       "<function matplotlib.pyplot.show(close=None, block=None)>"
      ]
     },
     "execution_count": 31,
     "metadata": {},
     "output_type": "execute_result"
    },
    {
     "data": {
      "image/png": "[encoded data removed]",
      "text/plain": [
       "<Figure size 432x288 with 1 Axes>"
      ]
     },
     "metadata": {
      "needs_background": "light"
     },
     "output_type": "display_data"
    }
   ],
   "source": [
    "# Get data of ImageCollection for the given region\n",
    "image_data_list = waterMask.getRegion(point, scale).getInfo()\n",
    "\n",
    "# Get list of ids\n",
    "list_of_ids = []\n",
    "if len(image_data_list) > 1:\n",
    "    mask_index = image_data_list[0].index('id')\n",
    "    for i in range(1, len(image_data_list)):\n",
    "        date = image_data_list[i][mask_index].replace('_', '-')\n",
    "        list_of_ids.append(date)\n",
    "# print(list_of_ids)\n",
    "\n",
    "# Get list of Image objects\n",
    "\n",
    "list_of_images = []\n",
    "for id in list_of_ids:\n",
    "    list_of_images.append(waterMask.filterDate(id).first())\n",
    "# print(list_of_images)\n",
    "\n",
    "# Get list of image as Python matrices\n",
    "list_of_matrices = []\n",
    "for image in list_of_images:\n",
    "    list_of_matrices.append(image.sampleRectangle(rectangle).get(band).getInfo())\n",
    "# print(list_of_matrices[0])\n",
    "\n",
    "# Change Python Matrix to Numpy Matrix for visualization\n",
    "list_of_nparray = []\n",
    "for matrix in list_of_matrices:\n",
    "    list_of_nparray.append(numpy.array(matrix))\n",
    "# print(\"Number of matrices: \" + str(len(list_of_nparray)))\n",
    "# print(\"Shape of a first matrix: \" + str(list_of_nparray[0].shape))\n",
    "\n",
    "# Plot first matrix\n",
    "plot.imshow(list_of_nparray[0], interpolation='nearest')\n",
    "plot.show\n"
   ]
  },
  {
   "cell_type": "code",
   "execution_count": null,
   "id": "4c602f27-343a-4a02-8126-c2eec6a6faa6",
   "metadata": {},
   "outputs": [],
   "source": [
    "# Model Option 1"
   ]
  },
  {
   "cell_type": "code",
   "execution_count": 74,
   "id": "cbf7d04a-1366-4f0e-bc39-0bf43f12474c",
   "metadata": {},
   "outputs": [
    {
     "name": "stdout",
     "output_type": "stream",
     "text": [
      "Data shape = (15, 145, 451)\n"
     ]
    }
   ],
   "source": [
    "# Clean and divide data for algorithm\n",
    "\n",
    "waterMask = numpy.shape(list_of_nparray)\n",
    "print(\"Data shape =\" , waterMask)"
   ]
  },
  {
   "cell_type": "code",
   "execution_count": 94,
   "id": "f484bc07-f19b-4d79-9fc7-a631a7bbd13a",
   "metadata": {},
   "outputs": [
    {
     "name": "stdout",
     "output_type": "stream",
     "text": [
      "(10, 1) (10, 10)\n"
     ]
    }
   ],
   "source": [
    "# example of a multi-output regression problem\n",
    "from sklearn.datasets import make_regression\n",
    "from sklearn.model_selection import RepeatedKFold\n",
    "\n",
    "# Identify number of inputs and outputs\n",
    "# n_inputs = 145*451\n",
    "# n_outputs = 145*451\n",
    "n_inputs = 1 # date\n",
    "n_outputs = 10 # number of pixles\n",
    "\n",
    "# create dataset\n",
    "def get_dataset():\n",
    "#date, pixel_mask \n",
    "    X, y = make_regression(n_samples=10, n_features=n_inputs, n_informative=2, n_targets=n_outputs, random_state=2)\n",
    "    return X,y\n",
    "# summarize shape\n",
    "print(date.shape, pixel_mask.shape)"
   ]
  },
  {
   "cell_type": "code",
   "execution_count": 81,
   "id": "37e6d0a1-15e9-47a6-9a40-915fb097a4bd",
   "metadata": {},
   "outputs": [
    {
     "data": {
      "text/plain": [
       "array([-56.46153839, -48.09941931, -12.23341951, -46.68464231,\n",
       "       -16.76572424, -71.38756296, -77.6270044 , -44.92650488,\n",
       "       -76.95308367,  -7.23983451])"
      ]
     },
     "execution_count": 81,
     "metadata": {},
     "output_type": "execute_result"
    }
   ],
   "source": [
    "pixel_mask[1]"
   ]
  },
  {
   "cell_type": "code",
   "execution_count": 84,
   "id": "d4060222-2a01-4a5d-a6a8-5aa50e4d9a8e",
   "metadata": {},
   "outputs": [],
   "source": [
    "# Define model\n",
    "# More than one hiden layers are needed for non-linear outputs\n",
    "def get_model(n_inputs, n_outputs):\n",
    "    model = tf.keras.Sequential()\n",
    "    model.add(tf.keras.layers.Dense(20, input_dim=n_inputs, kernel_initializer='he_uniform', activation='relu'))\n",
    "    model.add(tf.keras.layers.Dense(20, input_dim=n_inputs, kernel_initializer='he_uniform', activation='relu'))\n",
    "    model.add(tf.keras.layers.Dense(n_outputs))\n",
    "    model.compile(loss='mae', optimizer='adam')\n",
    "    return model"
   ]
  },
  {
   "cell_type": "code",
   "execution_count": 95,
   "id": "155906e4-0997-4b07-96ed-b784fed18281",
   "metadata": {},
   "outputs": [],
   "source": [
    "# Evaluate model\n",
    "\n",
    "# evaluate a model using repeated k-fold cross-validation\n",
    "def evaluate_model(X, y):\n",
    "    results = list()\n",
    "    n_inputs, n_outputs = X.shape[1], y.shape[1]\n",
    "    # define evaluation procedure\n",
    "    cv = RepeatedKFold(n_splits=10, n_repeats=3, random_state=1)\n",
    "    # enumerate folds\n",
    "    for train_ix, test_ix in cv.split(X):\n",
    "        # prepare data\n",
    "        X_train, X_test = X[train_ix], X[test_ix]\n",
    "        y_train, y_test = y[train_ix], y[test_ix]\n",
    "        # define model\n",
    "        model = get_model(n_inputs, n_outputs)\n",
    "        # fit model\n",
    "        model.fit(X_train, y_train, verbose=0, epochs=100)\n",
    "        # evaluate model on test set\n",
    "        mae = model.evaluate(X_test, y_test, verbose=0)\n",
    "        # store result\n",
    "        print('>%.3f' % mae)\n",
    "        results.append(mae)\n",
    "    return results"
   ]
  },
  {
   "cell_type": "code",
   "execution_count": 100,
   "id": "002dce09-6e50-43f0-8f86-3c085d8bb2cb",
   "metadata": {},
   "outputs": [
    {
     "name": "stdout",
     "output_type": "stream",
     "text": [
      ">51.184\n",
      ">88.730\n",
      ">79.677\n",
      ">99.804\n",
      ">39.006\n",
      ">17.965\n",
      ">41.105\n",
      ">56.323\n",
      ">24.892\n",
      ">2.310\n",
      ">87.727\n",
      ">2.074\n",
      ">18.904\n",
      ">35.940\n",
      ">24.005\n",
      ">97.769\n",
      ">51.979\n",
      ">43.466\n",
      ">78.322\n",
      ">60.760\n",
      ">23.693\n",
      ">17.695\n",
      ">2.626\n",
      ">80.477\n",
      ">40.165\n",
      ">81.648\n",
      ">43.361\n",
      ">58.908\n",
      ">102.558\n",
      ">50.713\n",
      "MAE: 50.126 (29.852)\n"
     ]
    }
   ],
   "source": [
    "# Run model\n",
    "# load dataset\n",
    "X, y = get_dataset()\n",
    "# evaluate model\n",
    "results = evaluate_model(X, y)\n",
    "# summarize performance\n",
    "print('MAE: %.3f (%.3f)' % (numpy.mean(results), numpy.std(results)))"
   ]
  },
  {
   "cell_type": "code",
   "execution_count": null,
   "id": "61281cc4-57d8-4665-9bc3-b949d0f68455",
   "metadata": {},
   "outputs": [],
   "source": [
    "# OPTION 2"
   ]
  },
  {
   "cell_type": "code",
   "execution_count": 58,
   "id": "e3a931b4-4c40-4cf3-a52c-48bd66a14319",
   "metadata": {},
   "outputs": [],
   "source": [
    "# Define model\n",
    "\n",
    "model = tf.keras.Sequential([\n",
    "  tf.keras.layers.Conv2D(3, 3, activation='relu'),\n",
    "  tf.keras.layers.Conv2D(3, 3, activation='relu'),\n",
    "  tf.keras.layers.MaxPooling2D(2),\n",
    "  tf.keras.layers.Conv2D(3, 3, activation='relu'),\n",
    "  tf.keras.layers.Conv2D(3, 3, activation='relu'),\n",
    "  tf.keras.layers.MaxPooling2D(2),\n",
    "  tf.keras.layers.Conv2D(3, 3, activation='relu'),\n",
    "  tf.keras.layers.Conv2D(3, 3, activation='relu'),\n",
    "  tf.keras.layers.Flatten(),\n",
    "  tf.keras.layers.Dense(units=512, activation='relu'),\n",
    "  tf.keras.layers.Dense(units=256, activation='relu'),\n",
    "  tf.keras.layers.Dense(units=64, activation='relu'),\n",
    "  tf.keras.layers.Dense(units=1)\n",
    "])"
   ]
  },
  {
   "cell_type": "code",
   "execution_count": 57,
   "id": "aedd4885-49f4-467c-a535-bd7414791ce8",
   "metadata": {},
   "outputs": [],
   "source": [
    "# Compilation\n",
    "model.compile(loss='mean_squared_error', optimizer=tf.keras.optimizers.SGD(0.01))\n",
    "# model.compile(loss='mean_squared_error', optimizer=\"adam\") # Another option for compilation"
   ]
  },
  {
   "cell_type": "code",
   "execution_count": null,
   "id": "e27bd290-8f12-4868-a494-45746558b035",
   "metadata": {},
   "outputs": [],
   "source": [
    "# Model fit\n",
    "history = model.fit(questions, solutions, epochs=10, batch_size = 200, verbose=1)\n",
    "\n"
   ]
  },
  {
   "cell_type": "code",
   "execution_count": null,
   "id": "34c46d9c-e9c9-4806-b14c-1976c2f6def3",
   "metadata": {},
   "outputs": [],
   "source": [
    "# Apply model\n",
    "test_answers = model.predict(test_questions)\n",
    "\n",
    "# Model Validation\n",
    "# We should print the generated images and compare them to the original ones"
   ]
  }
 ],
 "metadata": {
  "kernelspec": {
   "display_name": "Python 3 (ipykernel)",
   "language": "python",
   "name": "python3"
  },
  "language_info": {
   "codemirror_mode": {
    "name": "ipython",
    "version": 3
   },
   "file_extension": ".py",
   "mimetype": "text/x-python",
   "name": "python",
   "nbconvert_exporter": "python",
   "pygments_lexer": "ipython3",
   "version": "3.10.5"
  }
 },
 "nbformat": 4,
 "nbformat_minor": 5
}
