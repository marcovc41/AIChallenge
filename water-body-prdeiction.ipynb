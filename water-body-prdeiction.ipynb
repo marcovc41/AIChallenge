{
 "cells": [
  {
   "cell_type": "code",
   "execution_count": 1,
   "id": "99339c2e-f5ff-4761-b3a5-8dc3735ddabd",
   "metadata": {},
   "outputs": [
    {
     "data": {
      "text/html": [
       "<p>To authorize access needed by Earth Engine, open the following\n",
       "        URL in a web browser and follow the instructions:</p>\n",
       "        <p><a href=https://code.earthengine.google.com/client-auth?scopes=https%3A//www.googleapis.com/auth/earthengine%20https%3A//www.googleapis.com/auth/devstorage.full_control&request_id=-IK5XolbYHynyfPjiPF5W5lGhvDvVedPYL-S3fpiqmk&tc=CyAuRWFrkAZkkMKrNdIsTG8TTqZTIjG7CGwmKQIjN44&cc=j6R5bEUMxlrrRtK-mZ3SyrS-QJuo35vxQC4KEDFf4-o>https://code.earthengine.google.com/client-auth?scopes=https%3A//www.googleapis.com/auth/earthengine%20https%3A//www.googleapis.com/auth/devstorage.full_control&request_id=-IK5XolbYHynyfPjiPF5W5lGhvDvVedPYL-S3fpiqmk&tc=CyAuRWFrkAZkkMKrNdIsTG8TTqZTIjG7CGwmKQIjN44&cc=j6R5bEUMxlrrRtK-mZ3SyrS-QJuo35vxQC4KEDFf4-o</a></p>\n",
       "        <p>The authorization workflow will generate a code, which you\n",
       "        should paste in the box below</p>\n",
       "        "
      ],
      "text/plain": [
       "<IPython.core.display.HTML object>"
      ]
     },
     "metadata": {},
     "output_type": "display_data"
    },
    {
     "name": "stdin",
     "output_type": "stream",
     "text": [
      "Enter verification code:  4/1AX4XfWhqizQXsdA2R_GAgr9Sc9zK4InN1k8rp1CNA_yOuAkOooevV7bfjn0\n"
     ]
    },
    {
     "name": "stdout",
     "output_type": "stream",
     "text": [
      "\n",
      "Successfully saved authorization token.\n"
     ]
    }
   ],
   "source": [
    "## Select desired libraries\n",
    "\n",
    "import ee\n",
    "# Trigger the authentication flow.\n",
    "ee.Authenticate()"
   ]
  },
  {
   "cell_type": "code",
   "execution_count": 2,
   "id": "f8c15af7-4fa7-4990-a4a8-4b202f656e61",
   "metadata": {},
   "outputs": [],
   "source": [
    "## Adjust libraries to current pthon version\n",
    "\n",
    "import collections\n",
    "collections.Callable = collections.abc.Callable"
   ]
  },
  {
   "cell_type": "code",
   "execution_count": 3,
   "id": "cb340be8-b492-40cb-847b-295d398a1078",
   "metadata": {},
   "outputs": [],
   "source": [
    "## Initialize the library.\n",
    "ee.Initialize()"
   ]
  },
  {
   "cell_type": "code",
   "execution_count": 4,
   "id": "d4f08756-edf4-43e0-b2b3-5b6fc9624781",
   "metadata": {},
   "outputs": [],
   "source": [
    "## Define image collection\n",
    "\n",
    "# Initial date of interest (inclusive).\n",
    "i_date = '2000-01-01'\n",
    "\n",
    "# Final date of interest (exclusive).\n",
    "f_date = '2015-01-01'\n",
    "\n",
    "# Define point of interest\n",
    "u_lat = 20.24\n",
    "u_lon = -103.06\n",
    "u_poi = ee.Geometry.Point(u_lon, u_lat)\n",
    "\n",
    "# Define area of interest\n",
    "dx = 0.8\n",
    "dy = 0.3\n",
    "rectangle = ee.Geometry.Rectangle([u_lon-dx/2, \n",
    "                                  u_lat-dy/2,\n",
    "                                  u_lon+dx/2,\n",
    "                                  u_lat+dy/2]) #(xMin, yMin, xMax, yMax)\n",
    "\n",
    "# Define working band\n",
    "band = 'water_mask'\n",
    "\n",
    "# Create image collection\n",
    "imageColletion = ee.ImageCollection('MODIS/006/MOD44W')\n",
    "waterMask = imageColletion.select(band).filterDate(i_date, f_date).filterBounds(rectangle).sort('time')\n"
   ]
  },
  {
   "cell_type": "code",
   "execution_count": 5,
   "id": "907c3d43-fdb1-4600-b32f-3823252ed6f4",
   "metadata": {},
   "outputs": [
    {
     "name": "stdout",
     "output_type": "stream",
     "text": [
      "https://earthengine.googleapis.com/v1alpha/projects/earthengine-legacy/videoThumbnails/b38170a7b4ed1ab270519653b260d5d4-20019de0e4c6b508058b4e1dad97c4d3:getPixels\n"
     ]
    }
   ],
   "source": [
    "## Image collection visualization with a video\n",
    "\n",
    "# Define area of interest (aoi)\n",
    "aoi = rectangle\n",
    "\n",
    "# Define arguments for animation function parameters.\n",
    "videoArgs = {\n",
    "  'dimensions': 512,\n",
    "  'region': aoi,\n",
    "  'framesPerSecond': 7,\n",
    "  'crs': 'EPSG:3857',\n",
    "  'min': 0,\n",
    "  'max': 1,\n",
    "  'palette': ['bcba99', '2d0491']\n",
    "};\n",
    "\n",
    "# Alternatively, print a URL that will produce the animation when accessed.\n",
    "# print(waterMask.getVideoThumbURL(videoArgs))"
   ]
  },
  {
   "cell_type": "code",
   "execution_count": 7,
   "id": "6797782a-b0ac-46b7-8c45-61e1d5d977bc",
   "metadata": {},
   "outputs": [
    {
     "name": "stdout",
     "output_type": "stream",
     "text": [
      "https://earthengine.googleapis.com/v1alpha/projects/earthengine-legacy/thumbnails/4577494e0d682292dd891275c09c10dc-6d1031178f1282a5cc0b04d06891f620:getPixels\n",
      "\n",
      "Please wait while the thumbnail loads, it may take a moment...\n"
     ]
    },
    {
     "data": {
      "text/html": [
       "<img src=\"https://earthengine.googleapis.com/v1alpha/projects/earthengine-legacy/thumbnails/4577494e0d682292dd891275c09c10dc-6d1031178f1282a5cc0b04d06891f620:getPixels\"/>"
      ],
      "text/plain": [
       "<IPython.core.display.Image object>"
      ]
     },
     "execution_count": 7,
     "metadata": {},
     "output_type": "execute_result"
    }
   ],
   "source": [
    "## Visual representation of a single image\n",
    "\n",
    "# Define a region of interest with a buffer zone of 1000 km around Lyon.\n",
    "roi = u_poi.buffer(5e4)\n",
    "# Reduce the LST collection by mean.\n",
    "dataset_img = waterMask.mean()\n",
    "# Adjust for scale factor.\n",
    "scale_factor = 1\n",
    "dataset_img = dataset_img.select('water_mask').multiply(scale_factor)\n",
    "\n",
    "from IPython.display import Image\n",
    "\n",
    "# Create a URL to the styled image for a region around interest point.\n",
    "url = dataset_img.getThumbUrl({\n",
    "    'min': 0.0,\n",
    "    'max': 1.0,\n",
    "    'dimensions': 512, \n",
    "    'region': roi,\n",
    "    'palette': ['bcba99', '2d0491']})\n",
    "print(url)\n",
    "\n",
    "# Display the thumbnail land surface temperature in interest point.\n",
    "# print('\\nPlease wait while the thumbnail loads, it may take a moment...')\n",
    "# Image(url=url)"
   ]
  }
 ],
 "metadata": {
  "kernelspec": {
   "display_name": "Python 3 (ipykernel)",
   "language": "python",
   "name": "python3"
  },
  "language_info": {
   "codemirror_mode": {
    "name": "ipython",
    "version": 3
   },
   "file_extension": ".py",
   "mimetype": "text/x-python",
   "name": "python",
   "nbconvert_exporter": "python",
   "pygments_lexer": "ipython3",
   "version": "3.10.5"
  }
 },
 "nbformat": 4,
 "nbformat_minor": 5
}
